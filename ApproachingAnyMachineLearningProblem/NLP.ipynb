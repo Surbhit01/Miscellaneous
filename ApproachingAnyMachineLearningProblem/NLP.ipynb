{
 "cells": [
  {
   "cell_type": "markdown",
   "metadata": {},
   "source": [
    "A very basic approach to classify a sentence as positive or negative. "
   ]
  },
  {
   "cell_type": "code",
   "execution_count": 1,
   "metadata": {},
   "outputs": [],
   "source": [
    "def find_sentiment(sentence, pos, neg):\n",
    "    \n",
    "    #Splitting the sentence by space and converting it to a set to remove duplicate words\n",
    "    sentence = sentence.split()\n",
    "    sentence = set(sentence)\n",
    "    \n",
    "    num_common_pos = len(sentence.intersection(pos))\n",
    "    num_common_neg = len(sentence.intersection(neg))\n",
    "\n",
    "    print(f\"Input sentence : {sentence}\")\n",
    "    print(f\"Number of positive words : {num_common_pos}\")\n",
    "    print(f\"Number of negative words : {num_common_neg}\")\n",
    "    \n",
    "    if num_common_pos > num_common_neg:\n",
    "        print(f\"Sentiment of the sentence : Positive\")\n",
    "        return \"positive\"\n",
    "    if num_common_pos < num_common_neg:\n",
    "        print(f\"Sentiment of the sentence : Negative\")\n",
    "        return \"negative\"\n",
    "    print(f\"Sentiment of the sentence : Neutral\")\n",
    "    return \"neutral\""
   ]
  },
  {
   "cell_type": "markdown",
   "metadata": {},
   "source": [
    "Improving the text splitting method using nltk"
   ]
  },
  {
   "cell_type": "code",
   "execution_count": 2,
   "metadata": {},
   "outputs": [],
   "source": [
    "from nltk.tokenize import word_tokenize"
   ]
  },
  {
   "cell_type": "code",
   "execution_count": 3,
   "metadata": {},
   "outputs": [],
   "source": [
    "sentence = \"hi, how are you?\""
   ]
  },
  {
   "cell_type": "code",
   "execution_count": 8,
   "metadata": {},
   "outputs": [
    {
     "name": "stdout",
     "output_type": "stream",
     "text": [
      "Using sentence.split()\n",
      "['hi,', 'how', 'are', 'you?']\n",
      "\n",
      "Using nltk word tokenizer\n",
      "['hi', ',', 'how', 'are', 'you', '?']\n"
     ]
    }
   ],
   "source": [
    "#Using sentence.split\n",
    "print(\"Using sentence.split()\")\n",
    "print(sentence.split())\n",
    "print()\n",
    "#Using nltk word tokenizer\n",
    "print(\"Using nltk word tokenizer\")\n",
    "print(word_tokenize(sentence))"
   ]
  },
  {
   "cell_type": "markdown",
   "metadata": {},
   "source": [
    "BAG OF WORDS - A huge sparse matrix that stores the count of all the individual words present in the corpus"
   ]
  },
  {
   "cell_type": "code",
   "execution_count": 9,
   "metadata": {},
   "outputs": [],
   "source": [
    "from sklearn.feature_extraction.text import CountVectorizer"
   ]
  },
  {
   "cell_type": "code",
   "execution_count": 23,
   "metadata": {},
   "outputs": [],
   "source": [
    "corpus = [\n",
    "    \"hello, how are you?\",\n",
    "    \"im getting bored at home. And you? What do you think?\",\n",
    "    \"did you know about counts\",\n",
    "    \"let's see if this works!\",\n",
    "    \"YES!!!!\"\n",
    "]"
   ]
  },
  {
   "cell_type": "code",
   "execution_count": 24,
   "metadata": {},
   "outputs": [],
   "source": [
    "ctv = CountVectorizer()\n",
    "\n",
    "ctv.fit(corpus)\n",
    "\n",
    "corpus_transformed = ctv.transform(corpus)"
   ]
  },
  {
   "cell_type": "markdown",
   "metadata": {},
   "source": [
    "Vocabulary"
   ]
  },
  {
   "cell_type": "code",
   "execution_count": 29,
   "metadata": {},
   "outputs": [
    {
     "data": {
      "text/plain": [
       "{'hello': 9,\n",
       " 'how': 11,\n",
       " 'are': 2,\n",
       " 'you': 22,\n",
       " 'im': 13,\n",
       " 'getting': 8,\n",
       " 'bored': 4,\n",
       " 'at': 3,\n",
       " 'home': 10,\n",
       " 'and': 1,\n",
       " 'what': 19,\n",
       " 'do': 7,\n",
       " 'think': 17,\n",
       " 'did': 6,\n",
       " 'know': 14,\n",
       " 'about': 0,\n",
       " 'counts': 5,\n",
       " 'let': 15,\n",
       " 'see': 16,\n",
       " 'if': 12,\n",
       " 'this': 18,\n",
       " 'works': 20,\n",
       " 'yes': 21}"
      ]
     },
     "execution_count": 29,
     "metadata": {},
     "output_type": "execute_result"
    }
   ],
   "source": [
    "ctv.vocabulary_"
   ]
  },
  {
   "cell_type": "code",
   "execution_count": 30,
   "metadata": {},
   "outputs": [
    {
     "name": "stdout",
     "output_type": "stream",
     "text": [
      "  (0, 2)\t1\n",
      "  (0, 9)\t1\n",
      "  (0, 11)\t1\n",
      "  (0, 22)\t1\n",
      "  (1, 1)\t1\n",
      "  (1, 3)\t1\n",
      "  (1, 4)\t1\n",
      "  (1, 7)\t1\n",
      "  (1, 8)\t1\n",
      "  (1, 10)\t1\n",
      "  (1, 13)\t1\n",
      "  (1, 17)\t1\n",
      "  (1, 19)\t1\n",
      "  (1, 22)\t2\n",
      "  (2, 0)\t1\n",
      "  (2, 5)\t1\n",
      "  (2, 6)\t1\n",
      "  (2, 14)\t1\n",
      "  (2, 22)\t1\n",
      "  (3, 12)\t1\n",
      "  (3, 15)\t1\n",
      "  (3, 16)\t1\n",
      "  (3, 18)\t1\n",
      "  (3, 20)\t1\n",
      "  (4, 21)\t1\n"
     ]
    }
   ],
   "source": [
    "print(corpus_transformed)"
   ]
  },
  {
   "cell_type": "markdown",
   "metadata": {},
   "source": [
    "In the above response (x,y) x indicates the sample index and y indicates the id associated to the word in the vocabulary. The number of times that word has occured in that sentence is also printed above."
   ]
  },
  {
   "cell_type": "markdown",
   "metadata": {},
   "source": [
    "Using Count Vectorizer with nltk tokenizer"
   ]
  },
  {
   "cell_type": "code",
   "execution_count": 31,
   "metadata": {},
   "outputs": [],
   "source": [
    "from sklearn.feature_extraction.text import CountVectorizer\n",
    "from nltk.tokenize import word_tokenize"
   ]
  },
  {
   "cell_type": "code",
   "execution_count": 32,
   "metadata": {},
   "outputs": [],
   "source": [
    "corpus = [\n",
    "\"hello, how are you?\",\n",
    "\"im getting bored at home. And you? What do you think?\",\n",
    "\"did you know about counts\",\n",
    "\"let's see if this works!\",\n",
    "\"YES!!!!\"\n",
    "]"
   ]
  },
  {
   "cell_type": "code",
   "execution_count": 33,
   "metadata": {},
   "outputs": [
    {
     "name": "stdout",
     "output_type": "stream",
     "text": [
      "{'hello': 14, ',': 2, 'how': 16, 'are': 7, 'you': 27, '?': 4, 'im': 18, 'getting': 13, 'bored': 9, 'at': 8, 'home': 15, '.': 3, 'and': 6, 'what': 24, 'do': 12, 'think': 22, 'did': 11, 'know': 19, 'about': 5, 'counts': 10, 'let': 20, \"'s\": 1, 'see': 21, 'if': 17, 'this': 23, 'works': 25, '!': 0, 'yes': 26}\n"
     ]
    }
   ],
   "source": [
    "ctv = CountVectorizer(tokenizer=word_tokenize, token_pattern=None)\n",
    "\n",
    "ctv.fit(corpus)\n",
    "\n",
    "corpus_transformed = ctv.transform(corpus)\n",
    "\n",
    "print(ctv.vocabulary_)"
   ]
  },
  {
   "cell_type": "markdown",
   "metadata": {},
   "source": [
    "In the above sample the punctuations are also included as tokens."
   ]
  },
  {
   "cell_type": "markdown",
   "metadata": {},
   "source": [
    "MODELS"
   ]
  },
  {
   "cell_type": "code",
   "execution_count": 37,
   "metadata": {},
   "outputs": [],
   "source": [
    "import pandas as pd\n",
    "from nltk.tokenize import word_tokenize\n",
    "from sklearn import linear_model, metrics, model_selection\n",
    "from sklearn.feature_extraction.text import CountVectorizer\n"
   ]
  },
  {
   "cell_type": "code",
   "execution_count": 38,
   "metadata": {},
   "outputs": [
    {
     "name": "stdout",
     "output_type": "stream",
     "text": [
      "Shape of data : (50000, 2)\n"
     ]
    }
   ],
   "source": [
    "df = pd.read_csv(r'imdb.csv')\n",
    "print(f\"Shape of data : {df.shape}\")\n",
    "\n",
    "df.sentiment = df.sentiment.apply(\n",
    "    lambda x:1 if x==\"positive\" else 0\n",
    ")\n",
    "\n",
    "df['kfold'] = -1"
   ]
  },
  {
   "cell_type": "code",
   "execution_count": 39,
   "metadata": {},
   "outputs": [],
   "source": [
    "df = df.sample(frac=1).reset_index(drop=True)"
   ]
  },
  {
   "cell_type": "code",
   "execution_count": 45,
   "metadata": {},
   "outputs": [],
   "source": [
    "y = df.sentiment.values\n",
    "\n",
    "kf = model_selection.StratifiedKFold(n_splits=5)\n",
    "\n",
    "for f, (t_, v_) in enumerate(kf.split(X=df, y=y)):\n",
    "    df.loc[v_, 'kfold'] = f"
   ]
  },
  {
   "cell_type": "code",
   "execution_count": 50,
   "metadata": {},
   "outputs": [
    {
     "name": "stderr",
     "output_type": "stream",
     "text": [
      "d:\\Anaconda\\envs\\nlp\\lib\\site-packages\\sklearn\\linear_model\\_logistic.py:460: ConvergenceWarning: lbfgs failed to converge (status=1):\n",
      "STOP: TOTAL NO. of ITERATIONS REACHED LIMIT.\n",
      "\n",
      "Increase the number of iterations (max_iter) or scale the data as shown in:\n",
      "    https://scikit-learn.org/stable/modules/preprocessing.html\n",
      "Please also refer to the documentation for alternative solver options:\n",
      "    https://scikit-learn.org/stable/modules/linear_model.html#logistic-regression\n",
      "  n_iter_i = _check_optimize_result(\n"
     ]
    },
    {
     "name": "stdout",
     "output_type": "stream",
     "text": [
      "Fold : 0\n",
      "Accuracy = 0.8906\n",
      "\n"
     ]
    },
    {
     "name": "stderr",
     "output_type": "stream",
     "text": [
      "d:\\Anaconda\\envs\\nlp\\lib\\site-packages\\sklearn\\linear_model\\_logistic.py:460: ConvergenceWarning: lbfgs failed to converge (status=1):\n",
      "STOP: TOTAL NO. of ITERATIONS REACHED LIMIT.\n",
      "\n",
      "Increase the number of iterations (max_iter) or scale the data as shown in:\n",
      "    https://scikit-learn.org/stable/modules/preprocessing.html\n",
      "Please also refer to the documentation for alternative solver options:\n",
      "    https://scikit-learn.org/stable/modules/linear_model.html#logistic-regression\n",
      "  n_iter_i = _check_optimize_result(\n"
     ]
    },
    {
     "name": "stdout",
     "output_type": "stream",
     "text": [
      "Fold : 1\n",
      "Accuracy = 0.8986\n",
      "\n"
     ]
    },
    {
     "name": "stderr",
     "output_type": "stream",
     "text": [
      "d:\\Anaconda\\envs\\nlp\\lib\\site-packages\\sklearn\\linear_model\\_logistic.py:460: ConvergenceWarning: lbfgs failed to converge (status=1):\n",
      "STOP: TOTAL NO. of ITERATIONS REACHED LIMIT.\n",
      "\n",
      "Increase the number of iterations (max_iter) or scale the data as shown in:\n",
      "    https://scikit-learn.org/stable/modules/preprocessing.html\n",
      "Please also refer to the documentation for alternative solver options:\n",
      "    https://scikit-learn.org/stable/modules/linear_model.html#logistic-regression\n",
      "  n_iter_i = _check_optimize_result(\n"
     ]
    },
    {
     "name": "stdout",
     "output_type": "stream",
     "text": [
      "Fold : 2\n",
      "Accuracy = 0.894\n",
      "\n"
     ]
    },
    {
     "name": "stderr",
     "output_type": "stream",
     "text": [
      "d:\\Anaconda\\envs\\nlp\\lib\\site-packages\\sklearn\\linear_model\\_logistic.py:460: ConvergenceWarning: lbfgs failed to converge (status=1):\n",
      "STOP: TOTAL NO. of ITERATIONS REACHED LIMIT.\n",
      "\n",
      "Increase the number of iterations (max_iter) or scale the data as shown in:\n",
      "    https://scikit-learn.org/stable/modules/preprocessing.html\n",
      "Please also refer to the documentation for alternative solver options:\n",
      "    https://scikit-learn.org/stable/modules/linear_model.html#logistic-regression\n",
      "  n_iter_i = _check_optimize_result(\n"
     ]
    },
    {
     "name": "stdout",
     "output_type": "stream",
     "text": [
      "Fold : 3\n",
      "Accuracy = 0.8889\n",
      "\n",
      "Fold : 4\n",
      "Accuracy = 0.8886\n",
      "\n"
     ]
    },
    {
     "name": "stderr",
     "output_type": "stream",
     "text": [
      "d:\\Anaconda\\envs\\nlp\\lib\\site-packages\\sklearn\\linear_model\\_logistic.py:460: ConvergenceWarning: lbfgs failed to converge (status=1):\n",
      "STOP: TOTAL NO. of ITERATIONS REACHED LIMIT.\n",
      "\n",
      "Increase the number of iterations (max_iter) or scale the data as shown in:\n",
      "    https://scikit-learn.org/stable/modules/preprocessing.html\n",
      "Please also refer to the documentation for alternative solver options:\n",
      "    https://scikit-learn.org/stable/modules/linear_model.html#logistic-regression\n",
      "  n_iter_i = _check_optimize_result(\n"
     ]
    }
   ],
   "source": [
    "for fold_ in range(5):\n",
    "    train_df = df[df.kfold != fold_].reset_index(drop=True)\n",
    "    test_df = df[df.kfold == fold_].reset_index(drop=True)\n",
    "\n",
    "    count_vec = CountVectorizer(\n",
    "    tokenizer=word_tokenize,\n",
    "    token_pattern=None\n",
    "    )\n",
    "\n",
    "    count_vec.fit(train_df.review)\n",
    "\n",
    "    xtrain = count_vec.transform(train_df.review)\n",
    "    xtest = count_vec.transform(test_df.review)\n",
    "\n",
    "    model = linear_model.LogisticRegression()\n",
    "\n",
    "    model.fit(xtrain, train_df.sentiment)\n",
    "\n",
    "    preds = model.predict(xtest)\n",
    "\n",
    "    accuracy = metrics.accuracy_score(test_df.sentiment, preds)\n",
    "\n",
    "    print(f\"Fold : {fold_}\")\n",
    "    print(f\"Accuracy = {accuracy}\")\n",
    "    print(\"\")"
   ]
  },
  {
   "cell_type": "code",
   "execution_count": 51,
   "metadata": {},
   "outputs": [
    {
     "name": "stdout",
     "output_type": "stream",
     "text": [
      "Shape of data : (50000, 2)\n",
      "Fold : 0\n",
      "Accuracy = 0.8421\n",
      "\n",
      "Fold : 1\n",
      "Accuracy = 0.8439\n",
      "\n",
      "Fold : 2\n",
      "Accuracy = 0.839\n",
      "\n",
      "Fold : 3\n",
      "Accuracy = 0.8406\n",
      "\n",
      "Fold : 4\n",
      "Accuracy = 0.8528\n",
      "\n"
     ]
    }
   ],
   "source": [
    "import pandas as pd\n",
    "from nltk.tokenize import word_tokenize\n",
    "from sklearn import linear_model, metrics, model_selection, naive_bayes\n",
    "from sklearn.feature_extraction.text import CountVectorizer\n",
    "\n",
    "df = pd.read_csv(r'imdb.csv')\n",
    "print(f\"Shape of data : {df.shape}\")\n",
    "\n",
    "df.sentiment = df.sentiment.apply(\n",
    "    lambda x:1 if x==\"positive\" else 0\n",
    ")\n",
    "\n",
    "df['kfold'] = -1\n",
    "\n",
    "df = df.sample(frac=1).reset_index(drop=True)\n",
    "\n",
    "y = df.sentiment.values\n",
    "\n",
    "kf = model_selection.StratifiedKFold(n_splits=5)\n",
    "\n",
    "for f, (t_, v_) in enumerate(kf.split(X=df, y=y)):\n",
    "    df.loc[v_, 'kfold'] = f\n",
    "\n",
    "\n",
    "for fold_ in range(5):\n",
    "    train_df = df[df.kfold != fold_].reset_index(drop=True)\n",
    "    test_df = df[df.kfold == fold_].reset_index(drop=True)\n",
    "\n",
    "    count_vec = CountVectorizer(\n",
    "    tokenizer=word_tokenize,\n",
    "    token_pattern=None\n",
    "    )\n",
    "\n",
    "    count_vec.fit(train_df.review)\n",
    "\n",
    "    xtrain = count_vec.transform(train_df.review)\n",
    "    xtest = count_vec.transform(test_df.review)\n",
    "\n",
    "    #NAIVE BAYES MODEL\n",
    "    model = naive_bayes.MultinomialNB()\n",
    "\n",
    "    model.fit(xtrain, train_df.sentiment)\n",
    "\n",
    "    preds = model.predict(xtest)\n",
    "\n",
    "    accuracy = metrics.accuracy_score(test_df.sentiment, preds)\n",
    "\n",
    "    print(f\"Fold : {fold_}\")\n",
    "    print(f\"Accuracy = {accuracy}\")\n",
    "    print(\"\")\n"
   ]
  },
  {
   "cell_type": "markdown",
   "metadata": {},
   "source": [
    "TFIDF"
   ]
  },
  {
   "cell_type": "code",
   "execution_count": 52,
   "metadata": {},
   "outputs": [],
   "source": [
    "from sklearn.feature_extraction.text import TfidfVectorizer\n",
    "from nltk.tokenize import word_tokenize"
   ]
  },
  {
   "cell_type": "code",
   "execution_count": 57,
   "metadata": {},
   "outputs": [
    {
     "name": "stdout",
     "output_type": "stream",
     "text": [
      "VOCAB\n",
      "{'hello': 14, ',': 2, 'how': 16, 'are': 7, 'you': 27, '?': 4, 'im': 18, 'getting': 13, 'bored': 9, 'at': 8, 'home': 15, '.': 3, 'and': 6, 'what': 24, 'do': 12, 'think': 22, 'did': 11, 'know': 19, 'about': 5, 'counts': 10, 'let': 20, \"'s\": 1, 'see': 21, 'if': 17, 'this': 23, 'works': 25, '!': 0, 'yes': 26}\n",
      "\n",
      "TFIDF CORPUS TRANSFORMED\n",
      "  (0, 27)\t0.2965698850220162\n",
      "  (0, 16)\t0.4428321995085722\n",
      "  (0, 14)\t0.4428321995085722\n",
      "  (0, 7)\t0.4428321995085722\n",
      "  (0, 4)\t0.35727423026525224\n",
      "  (0, 2)\t0.4428321995085722\n",
      "  (1, 27)\t0.35299699146792735\n",
      "  (1, 24)\t0.2635440111190765\n",
      "  (1, 22)\t0.2635440111190765\n",
      "  (1, 18)\t0.2635440111190765\n",
      "  (1, 15)\t0.2635440111190765\n",
      "  (1, 13)\t0.2635440111190765\n",
      "  (1, 12)\t0.2635440111190765\n",
      "  (1, 9)\t0.2635440111190765\n",
      "  (1, 8)\t0.2635440111190765\n",
      "  (1, 6)\t0.2635440111190765\n",
      "  (1, 4)\t0.42525129752567803\n",
      "  (1, 3)\t0.2635440111190765\n",
      "  (2, 27)\t0.31752680284846835\n",
      "  (2, 19)\t0.4741246485558491\n",
      "  (2, 11)\t0.4741246485558491\n",
      "  (2, 10)\t0.4741246485558491\n",
      "  (2, 5)\t0.4741246485558491\n",
      "  (3, 25)\t0.38775666010579296\n",
      "  (3, 23)\t0.38775666010579296\n",
      "  (3, 21)\t0.38775666010579296\n",
      "  (3, 20)\t0.38775666010579296\n",
      "  (3, 17)\t0.38775666010579296\n",
      "  (3, 1)\t0.38775666010579296\n",
      "  (3, 0)\t0.3128396318588854\n",
      "  (4, 26)\t0.2959842226518677\n",
      "  (4, 0)\t0.9551928286692534\n"
     ]
    }
   ],
   "source": [
    "corpus = [\n",
    "    \"hello, how are you?\",\n",
    "    \"im getting bored at home. And you? What do you think?\",\n",
    "    \"did you know about counts\",\n",
    "    \"let's see if this works!\",\n",
    "    \"YES!!!!\"\n",
    "]\n",
    "\n",
    "tfv = TfidfVectorizer(tokenizer=word_tokenize, token_pattern=None)\n",
    "\n",
    "tfv.fit(corpus)\n",
    "\n",
    "corpus_transformed = tfv.transform(corpus)\n",
    "\n",
    "print(\"VOCAB\")\n",
    "print(tfv.vocabulary_)\n",
    "print()\n",
    "print(f\"TFIDF CORPUS TRANSFORMED\")\n",
    "print(corpus_transformed)"
   ]
  },
  {
   "cell_type": "markdown",
   "metadata": {},
   "source": [
    "In the above response (x,y) x indicates the sample index and y indicates the id associated to the word in the vocabulary. The tfidf score of that word is mentioned after that."
   ]
  },
  {
   "cell_type": "code",
   "execution_count": 56,
   "metadata": {},
   "outputs": [
    {
     "data": {
      "text/plain": [
       "{'hello': 14,\n",
       " ',': 2,\n",
       " 'how': 16,\n",
       " 'are': 7,\n",
       " 'you': 27,\n",
       " '?': 4,\n",
       " 'im': 18,\n",
       " 'getting': 13,\n",
       " 'bored': 9,\n",
       " 'at': 8,\n",
       " 'home': 15,\n",
       " '.': 3,\n",
       " 'and': 6,\n",
       " 'what': 24,\n",
       " 'do': 12,\n",
       " 'think': 22,\n",
       " 'did': 11,\n",
       " 'know': 19,\n",
       " 'about': 5,\n",
       " 'counts': 10,\n",
       " 'let': 20,\n",
       " \"'s\": 1,\n",
       " 'see': 21,\n",
       " 'if': 17,\n",
       " 'this': 23,\n",
       " 'works': 25,\n",
       " '!': 0,\n",
       " 'yes': 26}"
      ]
     },
     "execution_count": 56,
     "metadata": {},
     "output_type": "execute_result"
    }
   ],
   "source": []
  },
  {
   "cell_type": "markdown",
   "metadata": {},
   "source": [
    "Logistic Regression using TFIDF vectorizer"
   ]
  },
  {
   "cell_type": "code",
   "execution_count": 58,
   "metadata": {},
   "outputs": [
    {
     "name": "stdout",
     "output_type": "stream",
     "text": [
      "Shape of data : (50000, 2)\n"
     ]
    },
    {
     "name": "stderr",
     "output_type": "stream",
     "text": [
      "d:\\Anaconda\\envs\\nlp\\lib\\site-packages\\sklearn\\linear_model\\_logistic.py:460: ConvergenceWarning: lbfgs failed to converge (status=1):\n",
      "STOP: TOTAL NO. of ITERATIONS REACHED LIMIT.\n",
      "\n",
      "Increase the number of iterations (max_iter) or scale the data as shown in:\n",
      "    https://scikit-learn.org/stable/modules/preprocessing.html\n",
      "Please also refer to the documentation for alternative solver options:\n",
      "    https://scikit-learn.org/stable/modules/linear_model.html#logistic-regression\n",
      "  n_iter_i = _check_optimize_result(\n"
     ]
    },
    {
     "name": "stdout",
     "output_type": "stream",
     "text": [
      "Fold : 0\n",
      "Accuracy = 0.8961\n",
      "\n"
     ]
    },
    {
     "name": "stderr",
     "output_type": "stream",
     "text": [
      "d:\\Anaconda\\envs\\nlp\\lib\\site-packages\\sklearn\\linear_model\\_logistic.py:460: ConvergenceWarning: lbfgs failed to converge (status=1):\n",
      "STOP: TOTAL NO. of ITERATIONS REACHED LIMIT.\n",
      "\n",
      "Increase the number of iterations (max_iter) or scale the data as shown in:\n",
      "    https://scikit-learn.org/stable/modules/preprocessing.html\n",
      "Please also refer to the documentation for alternative solver options:\n",
      "    https://scikit-learn.org/stable/modules/linear_model.html#logistic-regression\n",
      "  n_iter_i = _check_optimize_result(\n"
     ]
    },
    {
     "name": "stdout",
     "output_type": "stream",
     "text": [
      "Fold : 1\n",
      "Accuracy = 0.8942\n",
      "\n"
     ]
    },
    {
     "name": "stderr",
     "output_type": "stream",
     "text": [
      "d:\\Anaconda\\envs\\nlp\\lib\\site-packages\\sklearn\\linear_model\\_logistic.py:460: ConvergenceWarning: lbfgs failed to converge (status=1):\n",
      "STOP: TOTAL NO. of ITERATIONS REACHED LIMIT.\n",
      "\n",
      "Increase the number of iterations (max_iter) or scale the data as shown in:\n",
      "    https://scikit-learn.org/stable/modules/preprocessing.html\n",
      "Please also refer to the documentation for alternative solver options:\n",
      "    https://scikit-learn.org/stable/modules/linear_model.html#logistic-regression\n",
      "  n_iter_i = _check_optimize_result(\n"
     ]
    },
    {
     "name": "stdout",
     "output_type": "stream",
     "text": [
      "Fold : 2\n",
      "Accuracy = 0.8964\n",
      "\n"
     ]
    },
    {
     "name": "stderr",
     "output_type": "stream",
     "text": [
      "d:\\Anaconda\\envs\\nlp\\lib\\site-packages\\sklearn\\linear_model\\_logistic.py:460: ConvergenceWarning: lbfgs failed to converge (status=1):\n",
      "STOP: TOTAL NO. of ITERATIONS REACHED LIMIT.\n",
      "\n",
      "Increase the number of iterations (max_iter) or scale the data as shown in:\n",
      "    https://scikit-learn.org/stable/modules/preprocessing.html\n",
      "Please also refer to the documentation for alternative solver options:\n",
      "    https://scikit-learn.org/stable/modules/linear_model.html#logistic-regression\n",
      "  n_iter_i = _check_optimize_result(\n"
     ]
    },
    {
     "name": "stdout",
     "output_type": "stream",
     "text": [
      "Fold : 3\n",
      "Accuracy = 0.8992\n",
      "\n",
      "Fold : 4\n",
      "Accuracy = 0.8995\n",
      "\n"
     ]
    }
   ],
   "source": [
    "import pandas as pd\n",
    "from nltk.tokenize import word_tokenize\n",
    "from sklearn import linear_model, metrics, model_selection\n",
    "from sklearn.feature_extraction.text import TfidfVectorizer\n",
    "\n",
    "df = pd.read_csv(r'imdb.csv')\n",
    "print(f\"Shape of data : {df.shape}\")\n",
    "\n",
    "df.sentiment = df.sentiment.apply(\n",
    "    lambda x:1 if x==\"positive\" else 0\n",
    ")\n",
    "\n",
    "df['kfold'] = -1\n",
    "\n",
    "df = df.sample(frac=1).reset_index(drop=True)\n",
    "\n",
    "y = df.sentiment.values\n",
    "\n",
    "kf = model_selection.StratifiedKFold(n_splits=5)\n",
    "\n",
    "for f, (t_, v_) in enumerate(kf.split(X=df, y=y)):\n",
    "    df.loc[v_, 'kfold'] = f\n",
    "\n",
    "\n",
    "for fold_ in range(5):\n",
    "    train_df = df[df.kfold != fold_].reset_index(drop=True)\n",
    "    test_df = df[df.kfold == fold_].reset_index(drop=True)\n",
    "\n",
    "    tfidf_vec = TfidfVectorizer(\n",
    "    tokenizer=word_tokenize,\n",
    "    token_pattern=None\n",
    "    )\n",
    "\n",
    "    tfidf_vec.fit(train_df.review)\n",
    "\n",
    "    xtrain = tfidf_vec.transform(train_df.review)\n",
    "    xtest = tfidf_vec.transform(test_df.review)\n",
    "\n",
    "    #LOGISTIC REGRESSION MODEL\n",
    "    model = linear_model.LogisticRegression()\n",
    "\n",
    "    model.fit(xtrain, train_df.sentiment)\n",
    "\n",
    "    preds = model.predict(xtest)\n",
    "\n",
    "    accuracy = metrics.accuracy_score(test_df.sentiment, preds)\n",
    "\n",
    "    print(f\"Fold : {fold_}\")\n",
    "    print(f\"Accuracy = {accuracy}\")\n",
    "    print(\"\")\n"
   ]
  },
  {
   "cell_type": "markdown",
   "metadata": {},
   "source": [
    "N-Grams <br>\n",
    "\n",
    "ngrams are combination of n words in order. 'n' can be 1 , 2 ,3 etc.. <br>\n",
    "<br>\n",
    "n = 1 -> unigram <br>\n",
    "n = 2 -> bigram <br>\n",
    "n = 3 -> trigram <br>\n",
    "<br> <br>\n",
    "\n",
    "Eg. Hello, how are you. <br>\n",
    "\n",
    "unigram - 'hello' ,'how', 'are', 'you' <br>\n",
    "bigram - 'hello how', 'how are', 'are you' <br>\n",
    "trigram - 'hello how are', 'how are you' <br>\n",
    "\n"
   ]
  },
  {
   "cell_type": "code",
   "execution_count": 62,
   "metadata": {},
   "outputs": [
    {
     "name": "stdout",
     "output_type": "stream",
     "text": [
      "N = 1\n",
      "[('hi',), (',',), ('how',), ('are',), ('you',), ('?',)]\n",
      "N = 2\n",
      "[('hi', ','), (',', 'how'), ('how', 'are'), ('are', 'you'), ('you', '?')]\n",
      "N = 3\n",
      "[('hi', ',', 'how'), (',', 'how', 'are'), ('how', 'are', 'you'), ('are', 'you', '?')]\n"
     ]
    }
   ],
   "source": [
    "from nltk import ngrams\n",
    "from nltk.tokenize import word_tokenize\n",
    "\n",
    "sentence = \"hi, how are you?\"\n",
    "\n",
    "N = 3\n",
    "\n",
    "tokenized_sentence = word_tokenize(sentence)\n",
    "\n",
    "for n in range(1,N+1):\n",
    "    print(f\"N = {n}\")\n",
    "    ngrams_ = list(ngrams(tokenized_sentence, n))\n",
    "\n",
    "    print(ngrams_)"
   ]
  },
  {
   "cell_type": "markdown",
   "metadata": {},
   "source": [
    "Logistic regression with TFIDF and ngrams"
   ]
  },
  {
   "cell_type": "markdown",
   "metadata": {},
   "source": [
    "Trigrams"
   ]
  },
  {
   "cell_type": "code",
   "execution_count": 64,
   "metadata": {},
   "outputs": [
    {
     "name": "stdout",
     "output_type": "stream",
     "text": [
      "Shape of data : (50000, 2)\n",
      "Fold : 0\n",
      "Accuracy = 0.8937\n",
      "\n"
     ]
    },
    {
     "name": "stderr",
     "output_type": "stream",
     "text": [
      "d:\\Anaconda\\envs\\nlp\\lib\\site-packages\\sklearn\\linear_model\\_logistic.py:460: ConvergenceWarning: lbfgs failed to converge (status=1):\n",
      "STOP: TOTAL NO. of ITERATIONS REACHED LIMIT.\n",
      "\n",
      "Increase the number of iterations (max_iter) or scale the data as shown in:\n",
      "    https://scikit-learn.org/stable/modules/preprocessing.html\n",
      "Please also refer to the documentation for alternative solver options:\n",
      "    https://scikit-learn.org/stable/modules/linear_model.html#logistic-regression\n",
      "  n_iter_i = _check_optimize_result(\n"
     ]
    },
    {
     "name": "stdout",
     "output_type": "stream",
     "text": [
      "Fold : 1\n",
      "Accuracy = 0.8926\n",
      "\n",
      "Fold : 2\n",
      "Accuracy = 0.8975\n",
      "\n"
     ]
    },
    {
     "name": "stderr",
     "output_type": "stream",
     "text": [
      "d:\\Anaconda\\envs\\nlp\\lib\\site-packages\\sklearn\\linear_model\\_logistic.py:460: ConvergenceWarning: lbfgs failed to converge (status=1):\n",
      "STOP: TOTAL NO. of ITERATIONS REACHED LIMIT.\n",
      "\n",
      "Increase the number of iterations (max_iter) or scale the data as shown in:\n",
      "    https://scikit-learn.org/stable/modules/preprocessing.html\n",
      "Please also refer to the documentation for alternative solver options:\n",
      "    https://scikit-learn.org/stable/modules/linear_model.html#logistic-regression\n",
      "  n_iter_i = _check_optimize_result(\n"
     ]
    },
    {
     "name": "stdout",
     "output_type": "stream",
     "text": [
      "Fold : 3\n",
      "Accuracy = 0.8883\n",
      "\n"
     ]
    },
    {
     "name": "stderr",
     "output_type": "stream",
     "text": [
      "d:\\Anaconda\\envs\\nlp\\lib\\site-packages\\sklearn\\linear_model\\_logistic.py:460: ConvergenceWarning: lbfgs failed to converge (status=1):\n",
      "STOP: TOTAL NO. of ITERATIONS REACHED LIMIT.\n",
      "\n",
      "Increase the number of iterations (max_iter) or scale the data as shown in:\n",
      "    https://scikit-learn.org/stable/modules/preprocessing.html\n",
      "Please also refer to the documentation for alternative solver options:\n",
      "    https://scikit-learn.org/stable/modules/linear_model.html#logistic-regression\n",
      "  n_iter_i = _check_optimize_result(\n"
     ]
    },
    {
     "name": "stdout",
     "output_type": "stream",
     "text": [
      "Fold : 4\n",
      "Accuracy = 0.8896\n",
      "\n"
     ]
    }
   ],
   "source": [
    "import pandas as pd\n",
    "from nltk.tokenize import word_tokenize\n",
    "from sklearn import linear_model, metrics, model_selection\n",
    "from sklearn.feature_extraction.text import TfidfVectorizer\n",
    "\n",
    "df = pd.read_csv(r'imdb.csv')\n",
    "print(f\"Shape of data : {df.shape}\")\n",
    "\n",
    "df.sentiment = df.sentiment.apply(\n",
    "    lambda x:1 if x==\"positive\" else 0\n",
    ")\n",
    "\n",
    "df['kfold'] = -1\n",
    "\n",
    "df = df.sample(frac=1).reset_index(drop=True)\n",
    "\n",
    "y = df.sentiment.values\n",
    "\n",
    "kf = model_selection.StratifiedKFold(n_splits=5)\n",
    "\n",
    "for f, (t_, v_) in enumerate(kf.split(X=df, y=y)):\n",
    "    df.loc[v_, 'kfold'] = f\n",
    "\n",
    "\n",
    "for fold_ in range(5):\n",
    "    train_df = df[df.kfold != fold_].reset_index(drop=True)\n",
    "    test_df = df[df.kfold == fold_].reset_index(drop=True)\n",
    "\n",
    "    #Using Ngrams during vectorization\n",
    "    tfidf_vec = TfidfVectorizer(\n",
    "    tokenizer=word_tokenize,\n",
    "    token_pattern=None,\n",
    "    ngram_range=(1,3)\n",
    "    )\n",
    "\n",
    "    tfidf_vec.fit(train_df.review)\n",
    "\n",
    "    xtrain = tfidf_vec.transform(train_df.review)\n",
    "    xtest = tfidf_vec.transform(test_df.review)\n",
    "\n",
    "    #LOGISTIC REGRESSION MODEL\n",
    "    model = linear_model.LogisticRegression()\n",
    "\n",
    "    model.fit(xtrain, train_df.sentiment)\n",
    "\n",
    "    preds = model.predict(xtest)\n",
    "\n",
    "    accuracy = metrics.accuracy_score(test_df.sentiment, preds)\n",
    "\n",
    "    print(f\"Fold : {fold_}\")\n",
    "    print(f\"Accuracy = {accuracy}\")\n",
    "    print(\"\")\n"
   ]
  },
  {
   "cell_type": "markdown",
   "metadata": {},
   "source": [
    "Bigrams"
   ]
  },
  {
   "cell_type": "code",
   "execution_count": 65,
   "metadata": {},
   "outputs": [
    {
     "name": "stdout",
     "output_type": "stream",
     "text": [
      "Shape of data : (50000, 2)\n"
     ]
    },
    {
     "name": "stderr",
     "output_type": "stream",
     "text": [
      "d:\\Anaconda\\envs\\nlp\\lib\\site-packages\\sklearn\\linear_model\\_logistic.py:460: ConvergenceWarning: lbfgs failed to converge (status=1):\n",
      "STOP: TOTAL NO. of ITERATIONS REACHED LIMIT.\n",
      "\n",
      "Increase the number of iterations (max_iter) or scale the data as shown in:\n",
      "    https://scikit-learn.org/stable/modules/preprocessing.html\n",
      "Please also refer to the documentation for alternative solver options:\n",
      "    https://scikit-learn.org/stable/modules/linear_model.html#logistic-regression\n",
      "  n_iter_i = _check_optimize_result(\n"
     ]
    },
    {
     "name": "stdout",
     "output_type": "stream",
     "text": [
      "Fold : 0\n",
      "Accuracy = 0.8959\n",
      "\n",
      "Fold : 1\n",
      "Accuracy = 0.8994\n",
      "\n"
     ]
    },
    {
     "name": "stderr",
     "output_type": "stream",
     "text": [
      "d:\\Anaconda\\envs\\nlp\\lib\\site-packages\\sklearn\\linear_model\\_logistic.py:460: ConvergenceWarning: lbfgs failed to converge (status=1):\n",
      "STOP: TOTAL NO. of ITERATIONS REACHED LIMIT.\n",
      "\n",
      "Increase the number of iterations (max_iter) or scale the data as shown in:\n",
      "    https://scikit-learn.org/stable/modules/preprocessing.html\n",
      "Please also refer to the documentation for alternative solver options:\n",
      "    https://scikit-learn.org/stable/modules/linear_model.html#logistic-regression\n",
      "  n_iter_i = _check_optimize_result(\n"
     ]
    },
    {
     "name": "stdout",
     "output_type": "stream",
     "text": [
      "Fold : 2\n",
      "Accuracy = 0.9046\n",
      "\n",
      "Fold : 3\n",
      "Accuracy = 0.8969\n",
      "\n",
      "Fold : 4\n",
      "Accuracy = 0.9014\n",
      "\n"
     ]
    },
    {
     "name": "stderr",
     "output_type": "stream",
     "text": [
      "d:\\Anaconda\\envs\\nlp\\lib\\site-packages\\sklearn\\linear_model\\_logistic.py:460: ConvergenceWarning: lbfgs failed to converge (status=1):\n",
      "STOP: TOTAL NO. of ITERATIONS REACHED LIMIT.\n",
      "\n",
      "Increase the number of iterations (max_iter) or scale the data as shown in:\n",
      "    https://scikit-learn.org/stable/modules/preprocessing.html\n",
      "Please also refer to the documentation for alternative solver options:\n",
      "    https://scikit-learn.org/stable/modules/linear_model.html#logistic-regression\n",
      "  n_iter_i = _check_optimize_result(\n"
     ]
    }
   ],
   "source": [
    "import pandas as pd\n",
    "from nltk.tokenize import word_tokenize\n",
    "from sklearn import linear_model, metrics, model_selection\n",
    "from sklearn.feature_extraction.text import TfidfVectorizer\n",
    "\n",
    "df = pd.read_csv(r'imdb.csv')\n",
    "print(f\"Shape of data : {df.shape}\")\n",
    "\n",
    "df.sentiment = df.sentiment.apply(\n",
    "    lambda x:1 if x==\"positive\" else 0\n",
    ")\n",
    "\n",
    "df['kfold'] = -1\n",
    "\n",
    "df = df.sample(frac=1).reset_index(drop=True)\n",
    "\n",
    "y = df.sentiment.values\n",
    "\n",
    "kf = model_selection.StratifiedKFold(n_splits=5)\n",
    "\n",
    "for f, (t_, v_) in enumerate(kf.split(X=df, y=y)):\n",
    "    df.loc[v_, 'kfold'] = f\n",
    "\n",
    "\n",
    "for fold_ in range(5):\n",
    "    train_df = df[df.kfold != fold_].reset_index(drop=True)\n",
    "    test_df = df[df.kfold == fold_].reset_index(drop=True)\n",
    "\n",
    "    #Using Ngrams during vectorization\n",
    "    tfidf_vec = TfidfVectorizer(\n",
    "    tokenizer=word_tokenize,\n",
    "    token_pattern=None,\n",
    "    ngram_range=(1,2)\n",
    "    )\n",
    "\n",
    "    tfidf_vec.fit(train_df.review)\n",
    "\n",
    "    xtrain = tfidf_vec.transform(train_df.review)\n",
    "    xtest = tfidf_vec.transform(test_df.review)\n",
    "\n",
    "    #LOGISTIC REGRESSION MODEL\n",
    "    model = linear_model.LogisticRegression()\n",
    "\n",
    "    model.fit(xtrain, train_df.sentiment)\n",
    "\n",
    "    preds = model.predict(xtest)\n",
    "\n",
    "    accuracy = metrics.accuracy_score(test_df.sentiment, preds)\n",
    "\n",
    "    print(f\"Fold : {fold_}\")\n",
    "    print(f\"Accuracy = {accuracy}\")\n",
    "    print(\"\")\n"
   ]
  },
  {
   "cell_type": "markdown",
   "metadata": {},
   "source": [
    "Stemming and Lemmatization <br>\n",
    "\n",
    "It's the process of reducing a word to its smallest form. In stemming, the proccessed word in called <b>stemmed word</b> and in lemmatization the proccessed word is called <b>lemma</b>. <br><br>\n",
    "\n",
    "For stemming we will use <b>smowball stemmer</b> and for lemmatization we will use <b>wordnet lemmatizer</b>"
   ]
  },
  {
   "cell_type": "code",
   "execution_count": 66,
   "metadata": {},
   "outputs": [],
   "source": [
    "from nltk.stem import WordNetLemmatizer\n",
    "from nltk.stem.snowball import SnowballStemmer"
   ]
  },
  {
   "cell_type": "code",
   "execution_count": 68,
   "metadata": {},
   "outputs": [
    {
     "name": "stdout",
     "output_type": "stream",
     "text": [
      "word = fishing\n",
      "Stemmed word = fish\n",
      "Lemma = fishing\n",
      "\n",
      "word = fishes\n",
      "Stemmed word = fish\n",
      "Lemma = fish\n",
      "\n",
      "word = fished\n",
      "Stemmed word = fish\n",
      "Lemma = fished\n",
      "\n"
     ]
    }
   ],
   "source": [
    "lemmatizer = WordNetLemmatizer()\n",
    "stemmer = SnowballStemmer(\"english\")\n",
    "\n",
    "words = [\"fishing\",\"fishes\",\"fished\"]\n",
    "\n",
    "for word in words:\n",
    "    print(f\"word = {word}\")\n",
    "    print(f\"Stemmed word = {stemmer.stem(word)}\")\n",
    "    print(f\"Lemma = {lemmatizer.lemmatize(word)}\")\n",
    "    print(\"\")"
   ]
  },
  {
   "cell_type": "markdown",
   "metadata": {},
   "source": [
    "<b>Non Negative Matrix Factorization (NMF)</b> or <b>Latent Semantic Analysis (LSA)</b> can be used for <b>Topic Extraction</b> <br><br>\n",
    "They are decomposition techniques which reduce the data to a given number of components. Any sparse matrix obtained from CountVectorizer or TfidfVectorizer can be fit on this,"
   ]
  },
  {
   "cell_type": "code",
   "execution_count": 77,
   "metadata": {},
   "outputs": [
    {
     "name": "stdout",
     "output_type": "stream",
     "text": [
      "['the', ',', '.', 'a', 'and']\n"
     ]
    }
   ],
   "source": [
    "import pandas as pd\n",
    "from nltk.tokenize import word_tokenize\n",
    "from sklearn import decomposition\n",
    "from sklearn.feature_extraction.text import TfidfVectorizer\n",
    "\n",
    "corpus = pd.read_csv(r\"imdb.csv\", nrows=10000)\n",
    "corpus = corpus.review.values\n",
    "\n",
    "#Init tokenizer\n",
    "tfv = TfidfVectorizer(tokenizer=word_tokenize,token_pattern=None)\n",
    "\n",
    "#Fit on corpus\n",
    "tfv.fit(corpus)\n",
    "\n",
    "#Transform the corpus\n",
    "corpus_transformed = tfv.transform(corpus)\n",
    "\n",
    "#Using SVD with 10 components\n",
    "svd = decomposition.TruncatedSVD(n_components=10)\n",
    "\n",
    "#Fit transform\n",
    "corpus_svd = svd.fit(corpus_transformed)\n",
    "\n",
    "sample_index = 0\n",
    "feature_scores = dict(\n",
    "    zip(\n",
    "        tfv.get_feature_names_out(),\n",
    "        corpus_svd.components_[sample_index]\n",
    "    )\n",
    ")\n",
    "\n",
    "N = 5\n",
    "print(sorted(feature_scores, key=feature_scores.get, reverse=True)[:5])"
   ]
  },
  {
   "cell_type": "code",
   "execution_count": 96,
   "metadata": {},
   "outputs": [
    {
     "name": "stdout",
     "output_type": "stream",
     "text": [
      "['the', ',', '.', 'a', 'and']\n",
      "['br', '<', '>', '/', '-']\n",
      "['i', 'movie', '!', 'it', 'was']\n",
      "[',', '!', \"''\", '``', 'you']\n",
      "['!', 'the', \"''\", '``', '...']\n"
     ]
    }
   ],
   "source": [
    "N = 5\n",
    "for sample_index in range(5):\n",
    "\n",
    "    feature_scores = dict(\n",
    "        zip(\n",
    "        tfv.get_feature_names_out(),\n",
    "        corpus_svd.components_[sample_index]\n",
    "        )\n",
    "     )\n",
    "    \n",
    "    print(sorted(feature_scores,key=feature_scores.get,reverse=True)[:N])\n"
   ]
  },
  {
   "cell_type": "code",
   "execution_count": 97,
   "metadata": {},
   "outputs": [],
   "source": [
    "import re, string\n",
    "\n",
    "def clean_text(s):\n",
    "    s = s.split()\n",
    "    \n",
    "    s = \" \".join(s)\n",
    "    s = re.sub(f'[{re.escape(string.punctuation)}]', '', s)\n",
    "\n",
    "    return s"
   ]
  },
  {
   "cell_type": "code",
   "execution_count": 102,
   "metadata": {},
   "outputs": [
    {
     "name": "stdout",
     "output_type": "stream",
     "text": [
      "['the', 'a', 'and', 'of', 'to']\n"
     ]
    }
   ],
   "source": [
    "import pandas as pd\n",
    "from nltk.tokenize import word_tokenize\n",
    "from sklearn import decomposition\n",
    "from sklearn.feature_extraction.text import TfidfVectorizer\n",
    "\n",
    "corpus = pd.read_csv(r\"imdb.csv\", nrows=10000)\n",
    "corpus.loc[:, \"review\"] = corpus.review.apply(clean_text)\n",
    "corpus = corpus.review.values\n",
    "\n",
    "#Init tokenizer\n",
    "tfv = TfidfVectorizer(tokenizer=word_tokenize,token_pattern=None)\n",
    "\n",
    "#Fit on corpus\n",
    "tfv.fit(corpus)\n",
    "\n",
    "#Transform the corpus\n",
    "corpus_transformed = tfv.transform(corpus)\n",
    "\n",
    "#Using SVD with 10 components\n",
    "svd = decomposition.TruncatedSVD(n_components=10)\n",
    "\n",
    "#Fit transform\n",
    "corpus_svd = svd.fit(corpus_transformed)\n",
    "\n",
    "sample_index = 0\n",
    "feature_scores = dict(\n",
    "    zip(\n",
    "        tfv.get_feature_names_out(),\n",
    "        corpus_svd.components_[sample_index]\n",
    "    )\n",
    ")\n",
    "\n",
    "N = 5\n",
    "print(sorted(feature_scores, key=feature_scores.get, reverse=True)[:5])"
   ]
  },
  {
   "cell_type": "code",
   "execution_count": 103,
   "metadata": {},
   "outputs": [
    {
     "name": "stdout",
     "output_type": "stream",
     "text": [
      "['the', 'a', 'and', 'of', 'to']\n",
      "['i', 'movie', 'it', 'was', 'this']\n",
      "['the', 'was', 'i', 'were', 'of']\n",
      "['her', 'was', 'she', 'i', 'he']\n",
      "['br', 'to', 'they', 'he', 'show']\n"
     ]
    }
   ],
   "source": [
    "N = 5\n",
    "for sample_index in range(5):\n",
    "\n",
    "    feature_scores = dict(\n",
    "        zip(\n",
    "        tfv.get_feature_names_out(),\n",
    "        corpus_svd.components_[sample_index]\n",
    "        )\n",
    "     )\n",
    "    \n",
    "    print(sorted(feature_scores,key=feature_scores.get,reverse=True)[:N])\n"
   ]
  },
  {
   "cell_type": "code",
   "execution_count": 109,
   "metadata": {},
   "outputs": [],
   "source": [
    "a"
   ]
  },
  {
   "cell_type": "code",
   "execution_count": null,
   "metadata": {},
   "outputs": [],
   "source": []
  }
 ],
 "metadata": {
  "kernelspec": {
   "display_name": "nlp",
   "language": "python",
   "name": "python3"
  },
  "language_info": {
   "codemirror_mode": {
    "name": "ipython",
    "version": 3
   },
   "file_extension": ".py",
   "mimetype": "text/x-python",
   "name": "python",
   "nbconvert_exporter": "python",
   "pygments_lexer": "ipython3",
   "version": "3.10.14"
  }
 },
 "nbformat": 4,
 "nbformat_minor": 2
}
